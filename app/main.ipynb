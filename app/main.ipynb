{
 "cells": [
  {
   "cell_type": "code",
   "execution_count": null,
   "id": "eec8754f",
   "metadata": {},
   "outputs": [],
   "source": [
    "from fastapi import FastAPI\n",
    "from pydantic import BaseModel\n",
    "import joblib\n",
    "import numpy as np\n",
    "\n",
    "app = FastAPI()\n",
    "\n",
    "# Load model\n",
    "model = joblib.load(\"model.pkl\")\n",
    "\n",
    "# Define input schema\n",
    "class InputData(BaseModel):\n",
    "    cycle: int\n",
    "    sensor_1: float\n",
    "    sensor_2: float\n",
    "    sensor_3: float\n",
    "    # Add all features used by your model\n",
    "\n",
    "@app.get(\"/\")\n",
    "def read_root():\n",
    "    return {\"msg\": \"Predictive Maintenance API is live!\"}\n",
    "\n",
    "@app.post(\"/predict\")\n",
    "def predict(data: InputData):\n",
    "    input_array = np.array([[data.cycle, data.sensor_1, data.sensor_2, data.sensor_3]])\n",
    "    prediction = model.predict(input_array)[0]\n",
    "    return {\"prediction\": int(prediction)}\n"
   ]
  }
 ],
 "metadata": {
  "kernelspec": {
   "display_name": "Python 3",
   "language": "python",
   "name": "python3"
  },
  "language_info": {
   "name": "python",
   "version": "3.8.20"
  }
 },
 "nbformat": 4,
 "nbformat_minor": 5
}
